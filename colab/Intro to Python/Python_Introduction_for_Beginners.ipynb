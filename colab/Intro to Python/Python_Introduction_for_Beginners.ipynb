{
 "cells": [
  {
   "cell_type": "markdown",
   "id": "a87a98f4",
   "metadata": {},
   "source": [
    "\n",
    "# Introduction to Python Programming\n",
    "\n",
    "Welcome to this basic Python programming tutorial! This notebook is designed for beginners with little to no programming experience. Python is a versatile and widely used programming language, known for its readability and straightforward syntax. In this tutorial, we'll cover some fundamental concepts and operations in Python.\n"
   ]
  },
  {
   "cell_type": "markdown",
   "id": "d57fb76d",
   "metadata": {},
   "source": [
    "\n",
    "## Basic Data Types in Python\n",
    "\n",
    "Python has several standard data types that are used to define the operations possible on them and the storage method for each of them. The most basic data types in Python are:\n",
    "- Integers (int)\n",
    "- Floating point numbers (float)\n",
    "- Strings (str)\n"
   ]
  },
  {
   "cell_type": "code",
   "execution_count": null,
   "id": "41967ce6",
   "metadata": {},
   "outputs": [],
   "source": [
    "\n",
    "# Integer\n",
    "x = 10\n",
    "print(\"Integer example:\", x)\n",
    "\n",
    "# Floating point\n",
    "y = 10.5\n",
    "print(\"Floating point example:\", y)\n",
    "\n",
    "# String\n",
    "z = \"Hello, Python!\"\n",
    "print(\"String example:\", z)\n"
   ]
  },
  {
   "cell_type": "markdown",
   "id": "306aecae",
   "metadata": {},
   "source": [
    "\n",
    "## Basic Operations\n",
    "\n",
    "Python supports the usual arithmetic and comparison operations:\n",
    "- Addition, subtraction, multiplication, division\n",
    "- Greater than, less than comparisons\n",
    "- String concatenation and repetition\n"
   ]
  },
  {
   "cell_type": "code",
   "execution_count": null,
   "id": "aa9d8056",
   "metadata": {},
   "outputs": [],
   "source": [
    "\n",
    "# Arithmetic operations\n",
    "a = 10\n",
    "b = 3\n",
    "print(\"Addition:\", a + b)\n",
    "print(\"Subtraction:\", a - b)\n",
    "print(\"Multiplication:\", a * b)\n",
    "print(\"Division:\", a / b)\n",
    "\n",
    "# String operations\n",
    "first_name = \"Python\"\n",
    "last_name = \"Programming\"\n",
    "print(\"Concatenated String:\", first_name + \" \" + last_name)\n"
   ]
  },
  {
   "cell_type": "markdown",
   "id": "5aa70672",
   "metadata": {},
   "source": [
    "\n",
    "## Control Structures\n",
    "\n",
    "Control structures in Python are used to make decisions and loop through data. The most common control structures are `if` statements and loops (`for` and `while`).\n"
   ]
  },
  {
   "cell_type": "code",
   "execution_count": null,
   "id": "588fd91c",
   "metadata": {},
   "outputs": [],
   "source": [
    "\n",
    "# If statement\n",
    "num = 10\n",
    "if num > 5:\n",
    "    print(\"Number is greater than 5\")\n",
    "\n",
    "# For loop\n",
    "for i in range(5):\n",
    "    print(\"Loop iteration\", i)\n",
    "\n",
    "# While loop\n",
    "count = 0\n",
    "while count < 5:\n",
    "    print(\"Count:\", count)\n",
    "    count += 1\n"
   ]
  },
  {
   "cell_type": "markdown",
   "id": "d9c0da3b",
   "metadata": {},
   "source": [
    "\n",
    "## Functions\n",
    "\n",
    "Functions in Python are defined using the `def` keyword. They are used to encapsulate reusable pieces of code.\n"
   ]
  },
  {
   "cell_type": "code",
   "execution_count": null,
   "id": "f22b0649",
   "metadata": {},
   "outputs": [],
   "source": [
    "\n",
    "# Defining a function\n",
    "def greet(name):\n",
    "    return \"Hello, \" + name + \"!\"\n",
    "\n",
    "# Calling the function\n",
    "print(greet(\"Python Learner\"))\n"
   ]
  },
  {
   "cell_type": "markdown",
   "id": "fa6a0544",
   "metadata": {},
   "source": [
    "\n",
    "## Importing and Using Libraries\n",
    "\n",
    "Python has a vast ecosystem of libraries. Libraries are collections of functions and methods that allow you to perform many actions without having to write your own code. You can import a library using the `import` keyword.\n"
   ]
  },
  {
   "cell_type": "code",
   "execution_count": null,
   "id": "e6a090af",
   "metadata": {},
   "outputs": [],
   "source": [
    "\n",
    "# Importing a library\n",
    "import math\n",
    "\n",
    "# Using a function from the math library\n",
    "print(\"The square root of 16 is:\", math.sqrt(16))\n"
   ]
  }
 ],
 "metadata": {},
 "nbformat": 4,
 "nbformat_minor": 5
}
