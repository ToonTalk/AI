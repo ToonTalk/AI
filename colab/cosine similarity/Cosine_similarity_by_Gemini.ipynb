{
  "nbformat": 4,
  "nbformat_minor": 0,
  "metadata": {
    "colab": {
      "provenance": []
    },
    "kernelspec": {
      "name": "python3",
      "display_name": "Python 3"
    },
    "language_info": {
      "name": "python"
    }
  },
  "cells": [
    {
      "cell_type": "markdown",
      "source": [
        "Created by Gemini Advanced (22/2/2023) in reponse to \"\n",
        "Can you create a Python function to compute the cosine similarity of two sentences using the Universal Sentence Encoder?\""
      ],
      "metadata": {
        "id": "UqUM712_B2A_"
      }
    },
    {
      "cell_type": "code",
      "execution_count": null,
      "metadata": {
        "colab": {
          "base_uri": "https://localhost:8080/"
        },
        "id": "cpWPy_ZuBhq9",
        "outputId": "c1a43f85-916a-4342-cf4c-7527c4cd0417"
      },
      "outputs": [
        {
          "output_type": "stream",
          "name": "stdout",
          "text": [
            "Cosine similarity: 0.3968282\n"
          ]
        }
      ],
      "source": [
        "import tensorflow_hub as hub\n",
        "import numpy as np\n",
        "\n",
        "# Load Universal Sentence Encoder model\n",
        "embed = hub.load(\"https://tfhub.dev/google/universal-sentence-encoder/4\")\n",
        "\n",
        "def cosine_similarity(sentence1, sentence2):\n",
        "  \"\"\"\n",
        "  Calculates the cosine similarity between two sentences using the Universal Sentence Encoder.\n",
        "\n",
        "  Args:\n",
        "    sentence1: The first sentence.\n",
        "    sentence2: The second sentence.\n",
        "\n",
        "  Returns:\n",
        "    The cosine similarity between the two sentences as a floating-point number.\n",
        "  \"\"\"\n",
        "  embeddings = embed([sentence1, sentence2])\n",
        "  similarity = np.dot(embeddings[0], embeddings[1]) / (np.linalg.norm(embeddings[0]) * np.linalg.norm(embeddings[1]))\n",
        "  return similarity\n",
        "\n",
        "# Example usage\n",
        "sentence1 = \"This is a sample sentence.\"\n",
        "sentence2 = \"Here is another sentence for similarity.\"\n",
        "\n",
        "similarity_score = cosine_similarity(sentence1, sentence2)\n",
        "print(\"Cosine similarity:\", similarity_score)\n"
      ]
    }
  ]
}