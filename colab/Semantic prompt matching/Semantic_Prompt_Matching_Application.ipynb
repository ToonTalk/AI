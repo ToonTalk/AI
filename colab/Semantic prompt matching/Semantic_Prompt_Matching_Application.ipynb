{
 "cells": [
  {
   "cell_type": "markdown",
   "id": "0ed66060",
   "metadata": {},
   "source": [
    "\n",
    "# Semantic Prompt Matching Application\n",
    "\n",
    "This notebook guides you through the creation of a simple program that matches a new user prompt to the semantically closest pre-defined prompt and returns the associated response. This is useful for building basic chatbots or automated Q&A systems.\n",
    "\n",
    "## Steps Involved:\n",
    "\n",
    "1. **Data Preparation**: Define a list of pre-defined prompts and their associated responses.\n",
    "2. **Semantic Similarity Calculation**: Implement a method to calculate the semantic similarity between the new prompt and each pre-defined prompt.\n",
    "3. **Finding the Closest Match**: Determine which pre-defined prompt is semantically closest to the new prompt.\n",
    "4. **Returning the Response**: Return the response associated with the closest pre-defined prompt.\n",
    "\n",
    "Let's get started!\n"
   ]
  },
  {
   "cell_type": "markdown",
   "id": "6c87c73f",
   "metadata": {},
   "source": [
    "\n",
    "## 1. Data Preparation\n",
    "\n",
    "First, we need to prepare our dataset. This includes defining a set of pre-defined prompts and their corresponding responses. We'll store these in a Python dictionary for easy access.\n"
   ]
  },
  {
   "cell_type": "code",
   "execution_count": null,
   "id": "bfe3f7c1",
   "metadata": {},
   "outputs": [],
   "source": [
    "\n",
    "# Sample data: pre-defined prompts and responses\n",
    "predefined_prompts = {\n",
    "    \"What is your name?\": \"I'm a chatbot created to help you.\",\n",
    "    \"How are you?\": \"I'm just a program, so I don't have feelings, but thanks for asking!\",\n",
    "    \"Tell me a joke.\": \"Why don't scientists trust atoms? Because they make up everything!\"\n",
    "}\n"
   ]
  },
  {
   "cell_type": "markdown",
   "id": "95df5cfc",
   "metadata": {},
   "source": [
    "\n",
    "## 2. Semantic Similarity Calculation\n",
    "\n",
    "To find the semantically closest pre-defined prompt, we need a way to measure the similarity between texts. We will use the cosine similarity measure for this purpose. The `scikit-learn` library provides useful tools for this.\n"
   ]
  },
  {
   "cell_type": "code",
   "execution_count": null,
   "id": "d707a7ed",
   "metadata": {},
   "outputs": [],
   "source": [
    "\n",
    "from sklearn.feature_extraction.text import TfidfVectorizer\n",
    "from sklearn.metrics.pairwise import cosine_similarity\n",
    "\n",
    "# Function to calculate semantic similarity\n",
    "def calculate_similarity(new_prompt, predefined_prompts):\n",
    "    # Combine new prompt with predefined prompts\n",
    "    prompts = list(predefined_prompts.keys()) + [new_prompt]\n",
    "    \n",
    "    # Convert prompts to TF-IDF representation\n",
    "    vectorizer = TfidfVectorizer().fit(prompts)\n",
    "    prompt_vectors = vectorizer.transform(prompts)\n",
    "\n",
    "    # Calculate cosine similarity\n",
    "    similarities = cosine_similarity(prompt_vectors[-1], prompt_vectors[:-1]).flatten()\n",
    "    return similarities\n"
   ]
  },
  {
   "cell_type": "markdown",
   "id": "ae0f7d3d",
   "metadata": {},
   "source": [
    "\n",
    "## 3. Finding the Closest Match\n",
    "\n",
    "After calculating the similarities, we need to find the pre-defined prompt that is most similar to the new prompt.\n"
   ]
  },
  {
   "cell_type": "code",
   "execution_count": null,
   "id": "ce1739e0",
   "metadata": {},
   "outputs": [],
   "source": [
    "\n",
    "# Function to find the closest match\n",
    "def find_closest_match(new_prompt, predefined_prompts):\n",
    "    similarities = calculate_similarity(new_prompt, predefined_prompts)\n",
    "    closest_index = similarities.argmax()\n",
    "    closest_prompt = list(predefined_prompts.keys())[closest_index]\n",
    "    return closest_prompt\n"
   ]
  },
  {
   "cell_type": "markdown",
   "id": "0e7f96b3",
   "metadata": {},
   "source": [
    "\n",
    "## 4. Returning the Response\n",
    "\n",
    "Finally, we return the response associated with the closest pre-defined prompt.\n"
   ]
  },
  {
   "cell_type": "code",
   "execution_count": null,
   "id": "3964cac1",
   "metadata": {},
   "outputs": [],
   "source": [
    "\n",
    "# Function to get response for a new prompt\n",
    "def get_response(new_prompt, predefined_prompts):\n",
    "    closest_prompt = find_closest_match(new_prompt, predefined_prompts)\n",
    "    return predefined_prompts[closest_prompt]\n",
    "\n",
    "# Example\n",
    "new_prompt = \"Tell me something funny.\"\n",
    "response = get_response(new_prompt, predefined_prompts)\n",
    "print(\"Response:\", response)\n"
   ]
  }
 ],
 "metadata": {},
 "nbformat": 4,
 "nbformat_minor": 5
}
