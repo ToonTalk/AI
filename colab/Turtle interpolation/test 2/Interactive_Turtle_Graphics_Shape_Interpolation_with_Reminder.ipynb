{
 "cells": [
  {
   "cell_type": "markdown",
   "id": "6d4e5e42",
   "metadata": {},
   "source": [
    "# Custom Turtle Graphics: Shape Interpolation\n",
    "\n",
    "In this notebook, we explore creating custom implementations of turtle graphics functions to interpolate between shapes, such as transforming a square into a triangle. We'll build our own `forward` and `right` functions for more control over the drawing process."
   ]
  },
  {
   "cell_type": "markdown",
   "id": "392bdc18",
   "metadata": {},
   "source": [
    "## Setup\n",
    "\n",
    "First, we need to set up our drawing environment. We'll use basic Python functionalities instead of the turtle package."
   ]
  },
  {
   "cell_type": "code",
   "execution_count": null,
   "id": "c5fba52b",
   "metadata": {},
   "outputs": [],
   "source": [
    "# Enabling interactive plotting\n",
    "%matplotlib notebook\n",
    "\n",
    "# Re-importing necessary libraries for interactive plotting\n",
    "import matplotlib.pyplot as plt\n",
    "import numpy as np\n",
    "from IPython.display import display, clear_output\n",
    "\n",
    "# Setting up the interactive plot\n",
    "fig, ax = plt.subplots()\n",
    "ax.set_xlim(0, 200)\n",
    "ax.set_ylim(0, 200)\n",
    "ax.set_aspect('equal', adjustable='box')"
   ]
  },
  {
   "cell_type": "markdown",
   "id": "71e12db0",
   "metadata": {},
   "source": [
    "## Implementing Custom Movement Functions\n",
    "\n",
    "Next, we implement the custom `forward` and `right` functions. These functions will update the turtle's position and heading."
   ]
  },
  {
   "cell_type": "code",
   "execution_count": null,
   "id": "53c95f4a",
   "metadata": {},
   "outputs": [],
   "source": [
    "# Custom forward function\n",
    "def custom_forward(distance):\n",
    "    global position\n",
    "    new_position = position + heading * distance\n",
    "    ax.plot([position[0], new_position[0]], [position[1], new_position[1]], 'k-')\n",
    "    position = new_position\n",
    "\n",
    "# Custom right function\n",
    "def custom_right(angle):\n",
    "    global heading\n",
    "    rad = np.radians(angle)\n",
    "    rotation_matrix = np.array([[np.cos(rad), -np.sin(rad)], [np.sin(rad), np.cos(rad)]])\n",
    "    heading = rotation_matrix @ heading"
   ]
  },
  {
   "cell_type": "markdown",
   "id": "cd245fc3",
   "metadata": {},
   "source": [
    "## Defining Shape Functions\n",
    "\n",
    "We define functions to draw basic shapes like a square and a triangle using our custom movement functions."
   ]
  },
  {
   "cell_type": "code",
   "execution_count": null,
   "id": "20e2aa64",
   "metadata": {},
   "outputs": [],
   "source": [
    "# Function to draw a square\n",
    "def draw_square(side_length):\n",
    "    for _ in range(4):\n",
    "        custom_forward(side_length)\n",
    "        custom_right(90)\n",
    "\n",
    "# Function to draw a triangle\n",
    "def draw_triangle(side_length):\n",
    "    for _ in range(3):\n",
    "        custom_forward(side_length)\n",
    "        custom_right(120)"
   ]
  },
  {
   "cell_type": "markdown",
   "id": "4a8963b5",
   "metadata": {},
   "source": [
    "## Interpolation Logic\n",
    "\n",
    "To smoothly transform a square into a triangle, we'll interpolate between the angles and repeat the drawing process for each step."
   ]
  },
  {
   "cell_type": "code",
   "execution_count": null,
   "id": "cb3f66cd",
   "metadata": {},
   "outputs": [],
   "source": [
    "# Interpolation function\n",
    "def interpolate_shapes(steps):\n",
    "    for step in range(steps):\n",
    "        ax.clear()\n",
    "        ax.set_xlim(0, 200)\n",
    "        ax.set_ylim(0, 200)\n",
    "        angle = 90 + (30 * step / steps)  # Interpolating the angle\n",
    "        side_length = 50  # Keeping side length constant\n",
    "        sides = 4 if step < steps // 2 else 3  # Square for first half, triangle for second\n",
    "        for _ in range(sides):\n",
    "            custom_forward(side_length)\n",
    "            custom_right(angle)\n",
    "        clear_output(wait=True)\n",
    "display(fig)"
   ]
  },
  {
   "cell_type": "markdown",
   "id": "2ba07bd0",
   "metadata": {},
   "source": [
    "**Important Reminder**: Before running the animation, make sure to execute the setup cells at the beginning of the notebook to define the global variables `position` and `heading`."
   ]
  },
  {
   "cell_type": "markdown",
   "id": "0dbc0ff4",
   "metadata": {},
   "source": [
    "## Creating the Animation\n",
    "\n",
    "Finally, let's create an animation that shows the transformation from a square to a triangle."
   ]
  },
  {
   "cell_type": "code",
   "execution_count": null,
   "id": "f296923e",
   "metadata": {},
   "outputs": [],
   "source": [
    "# Run the animation\n",
    "interpolate_shapes(60)  # 60 steps for the transformation"
   ]
  }
 ],
 "metadata": {},
 "nbformat": 4,
 "nbformat_minor": 5
}
