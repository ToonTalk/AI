{
 "cells": [
  {
   "cell_type": "markdown",
   "id": "2c3f5421",
   "metadata": {},
   "source": [
    "# Turtle Graphics Shape Interpolation\n",
    "\n",
    "In this notebook, we'll explore how to interpolate between different turtle graphics shapes, such as transforming a square into a triangle. We will implement custom `forward` and `right` functions for turtle movement and create animations to visualize the transformation.\n",
    "\n",
    "## Setup\n",
    "\n",
    "First, let's import the necessary libraries and set up our turtle graphics environment.\n",
    "    "
   ]
  },
  {
   "cell_type": "markdown",
   "id": "26caa84a",
   "metadata": {},
   "source": [
    "## Implementing Custom Movement Functions\n",
    "\n",
    "Here, we define our custom `forward` and `right` functions for controlling the turtle's movement. These functions will mimic the standard turtle graphics functions, giving us more control over the animations.\n",
    "    "
   ]
  },
  {
   "cell_type": "markdown",
   "id": "cccfd4a3",
   "metadata": {},
   "source": [
    "## Defining Shape Functions\n",
    "\n",
    "Now, let's define the functions to draw basic shapes - a square and a triangle. These functions will be used to generate the initial and final states of our interpolation.\n",
    "    "
   ]
  },
  {
   "cell_type": "markdown",
   "id": "8cf29ded",
   "metadata": {},
   "source": [
    "## Interpolation Logic\n",
    "\n",
    "To interpolate between a square and a triangle, we need a method to gradually transform the coordinates and angles used in drawing these shapes. We'll implement this logic here.\n",
    "    "
   ]
  },
  {
   "cell_type": "markdown",
   "id": "62ce16f3",
   "metadata": {},
   "source": [
    "## Creating the Animation\n",
    "\n",
    "Finally, we'll create a function to animate the transformation from a square to a triangle. This function will utilize the interpolation logic to update the shapes frame by frame.\n",
    "    "
   ]
  },
  {
   "cell_type": "code",
   "execution_count": null,
   "id": "01abd386",
   "metadata": {},
   "outputs": [],
   "source": [
    "# Importing necessary libraries\n",
    "import turtle\n",
    "import numpy as np\n",
    "\n",
    "# Setting up the turtle environment\n",
    "wn = turtle.Screen()\n",
    "wn.bgcolor(\"white\")\n",
    "wn.title(\"Turtle Graphics Interpolation\")\n",
    "\n",
    "# Create a turtle\n",
    "t = turtle.Turtle()\n",
    "t.speed(1)"
   ]
  },
  {
   "cell_type": "code",
   "execution_count": null,
   "id": "ea0543d0",
   "metadata": {},
   "outputs": [],
   "source": [
    "# Custom forward function\n",
    "def custom_forward(distance):\n",
    "    t.forward(distance)\n",
    "\n",
    "# Custom right function\n",
    "def custom_right(angle):\n",
    "    t.right(angle)"
   ]
  },
  {
   "cell_type": "code",
   "execution_count": null,
   "id": "25695d74",
   "metadata": {},
   "outputs": [],
   "source": [
    "# Function to draw a square\n",
    "def draw_square(side_length):\n",
    "    for _ in range(4):\n",
    "        custom_forward(side_length)\n",
    "        custom_right(90)\n",
    "\n",
    "# Function to draw a triangle\n",
    "def draw_triangle(side_length):\n",
    "    for _ in range(3):\n",
    "        custom_forward(side_length)\n",
    "        custom_right(120)"
   ]
  },
  {
   "cell_type": "code",
   "execution_count": null,
   "id": "9600615f",
   "metadata": {},
   "outputs": [],
   "source": [
    "# Interpolation function\n",
    "def interpolate_shapes(steps):\n",
    "    for step in range(steps):\n",
    "        t.clear()\n",
    "        # Interpolate the angle and side length\n",
    "        angle = 90 + (30 * step / steps)\n",
    "        side_length = 100  # Keeping side length constant for simplicity\n",
    "        for _ in range(4):\n",
    "            custom_forward(side_length)\n",
    "            custom_right(angle)\n",
    "        wn.update()"
   ]
  },
  {
   "cell_type": "code",
   "execution_count": null,
   "id": "5c7392f1",
   "metadata": {},
   "outputs": [],
   "source": [
    "# Animation function\n",
    "def animate_transformation():\n",
    "    steps = 30  # Number of steps in the transformation\n",
    "    wn.tracer(0)  # Turn off animation (we will manually update the screen)\n",
    "    interpolate_shapes(steps)\n",
    "    wn.tracer(1)  # Turn on animation\n",
    "\n",
    "# Run the animation\n",
    "animate_transformation()"
   ]
  }
 ],
 "metadata": {},
 "nbformat": 4,
 "nbformat_minor": 5
}
