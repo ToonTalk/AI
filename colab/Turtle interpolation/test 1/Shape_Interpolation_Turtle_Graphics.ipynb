{
 "cells": [
  {
   "cell_type": "code",
   "execution_count": null,
   "id": "4d38891f",
   "metadata": {},
   "outputs": [],
   "source": [
    "\n",
    "import turtle\n",
    "import ipywidgets as widgets\n",
    "from IPython.display import display, clear_output\n"
   ]
  },
  {
   "cell_type": "code",
   "execution_count": null,
   "id": "24202337",
   "metadata": {},
   "outputs": [],
   "source": [
    "\n",
    "def draw_square(turtle_obj, size):\n",
    "    for _ in range(4):\n",
    "        turtle_obj.forward(size)\n",
    "        turtle_obj.right(90)\n",
    "\n",
    "def draw_triangle(turtle_obj, size):\n",
    "    for _ in range(3):\n",
    "        turtle_obj.forward(size)\n",
    "        turtle_obj.right(120)\n"
   ]
  },
  {
   "cell_type": "code",
   "execution_count": null,
   "id": "562fc0f9",
   "metadata": {},
   "outputs": [],
   "source": [
    "\n",
    "def interpolate_shapes(turtle_obj, size, interpolation):\n",
    "    # interpolation = 0 -> square, interpolation = 1 -> triangle\n",
    "    num_sides = round(4 - interpolation)\n",
    "    angle = 90 if num_sides == 4 else 120\n",
    "\n",
    "    turtle_obj.clear()\n",
    "    for _ in range(num_sides):\n",
    "        turtle_obj.forward(size)\n",
    "        turtle_obj.right(angle)\n"
   ]
  },
  {
   "cell_type": "code",
   "execution_count": null,
   "id": "3a7adf6c",
   "metadata": {},
   "outputs": [],
   "source": [
    "\n",
    "def on_slider_change(change):\n",
    "    interpolate_shapes(t, 100, change.new)\n",
    "\n",
    "slider = widgets.FloatSlider(value=0, min=0, max=1, step=0.01, description='Interpolate:')\n",
    "slider.observe(on_slider_change, names='value')\n",
    "\n",
    "display(slider)\n",
    "\n",
    "# Turtle setup\n",
    "screen = turtle.Screen()\n",
    "t = turtle.Turtle()\n"
   ]
  }
 ],
 "metadata": {},
 "nbformat": 4,
 "nbformat_minor": 5
}
