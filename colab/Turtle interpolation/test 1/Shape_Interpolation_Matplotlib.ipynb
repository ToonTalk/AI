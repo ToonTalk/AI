{
 "cells": [
  {
   "cell_type": "code",
   "execution_count": null,
   "id": "66edb19a",
   "metadata": {},
   "outputs": [],
   "source": [
    "\n",
    "import matplotlib.pyplot as plt\n",
    "import numpy as np\n"
   ]
  },
  {
   "cell_type": "code",
   "execution_count": null,
   "id": "712ad14c",
   "metadata": {},
   "outputs": [],
   "source": [
    "\n",
    "def plot_shape(num_sides, size, ax):\n",
    "    angles = np.linspace(0, 2 * np.pi, num_sides, endpoint=False) + np.pi/4  # Adjust rotation\n",
    "    x = size * np.cos(angles)\n",
    "    y = size * np.sin(angles)\n",
    "    \n",
    "    # Closing the shape by repeating the first point\n",
    "    x = np.append(x, x[0])\n",
    "    y = np.append(y, y[0])\n",
    "    \n",
    "    ax.plot(x, y, 'b-')\n",
    "    ax.set_aspect('equal', 'box')\n",
    "    ax.set_xlim([-size, size])\n",
    "    ax.set_ylim([-size, size])\n",
    "    ax.axis('off')\n"
   ]
  },
  {
   "cell_type": "code",
   "execution_count": null,
   "id": "669866df",
   "metadata": {},
   "outputs": [],
   "source": [
    "\n",
    "def interpolate_shapes(num_sides, size, interpolation):\n",
    "    fig, ax = plt.subplots()\n",
    "    plot_shape(num_sides, size, ax)\n",
    "    plt.show()\n"
   ]
  },
  {
   "cell_type": "code",
   "execution_count": null,
   "id": "aa48ff76",
   "metadata": {},
   "outputs": [],
   "source": [
    "\n",
    "def on_slider_change(change):\n",
    "    num_sides = round(4 - 3 * change.new) # 4 sides for square, 3 for triangle\n",
    "    interpolate_shapes(num_sides, 100, change.new)\n",
    "\n",
    "slider = widgets.FloatSlider(value=0, min=0, max=1, step=0.01, description='Interpolate:')\n",
    "slider.observe(on_slider_change, names='value')\n",
    "\n",
    "display(slider)\n"
   ]
  }
 ],
 "metadata": {},
 "nbformat": 4,
 "nbformat_minor": 5
}
