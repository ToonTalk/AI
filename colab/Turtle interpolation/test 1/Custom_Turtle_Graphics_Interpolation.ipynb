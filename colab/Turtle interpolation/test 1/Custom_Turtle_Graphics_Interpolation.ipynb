{
 "cells": [
  {
   "cell_type": "code",
   "execution_count": null,
   "id": "6521d934",
   "metadata": {},
   "outputs": [],
   "source": [
    "\n",
    "import matplotlib.pyplot as plt\n",
    "import numpy as np\n"
   ]
  },
  {
   "cell_type": "code",
   "execution_count": null,
   "id": "48afe8fb",
   "metadata": {},
   "outputs": [],
   "source": [
    "\n",
    "class CustomTurtle:\n",
    "    def __init__(self):\n",
    "        self.angle = 0\n",
    "        self.position = np.array([0.0, 0.0])\n",
    "        self.path = [self.position.copy()]\n",
    "\n",
    "    def forward(self, distance):\n",
    "        radian = np.deg2rad(self.angle)\n",
    "        direction = np.array([np.cos(radian), np.sin(radian)])\n",
    "        self.position += direction * distance\n",
    "        self.path.append(self.position.copy())\n",
    "\n",
    "    def right(self, angle):\n",
    "        self.angle -= angle\n",
    "\n",
    "    def reset(self):\n",
    "        self.angle = 0\n",
    "        self.position = np.array([0.0, 0.0])\n",
    "        self.path = [self.position.copy()]\n"
   ]
  },
  {
   "cell_type": "code",
   "execution_count": null,
   "id": "4aac1988",
   "metadata": {},
   "outputs": [],
   "source": [
    "\n",
    "def draw_shape(turtle_obj, num_sides, size):\n",
    "    angle = 360 / num_sides\n",
    "    for _ in range(num_sides):\n",
    "        turtle_obj.forward(size)\n",
    "        turtle_obj.right(angle)\n"
   ]
  },
  {
   "cell_type": "code",
   "execution_count": null,
   "id": "5dbffdae",
   "metadata": {},
   "outputs": [],
   "source": [
    "\n",
    "def interpolate_shapes(num_sides, size, interpolation):\n",
    "    turtle_obj = CustomTurtle()\n",
    "    draw_shape(turtle_obj, num_sides, size)\n",
    "\n",
    "    x, y = zip(*turtle_obj.path)\n",
    "    plt.figure(figsize=(6,6))\n",
    "    plt.plot(x, y, 'b-')\n",
    "    plt.xlim(-150, 150)\n",
    "    plt.ylim(-150, 150)\n",
    "    plt.gca().set_aspect('equal', adjustable='box')\n",
    "    plt.show()\n"
   ]
  },
  {
   "cell_type": "code",
   "execution_count": null,
   "id": "49a4d531",
   "metadata": {},
   "outputs": [],
   "source": [
    "\n",
    "def on_slider_change(change):\n",
    "    num_sides = round(4 - 3 * change.new) # 4 sides for square, 3 for triangle\n",
    "    interpolate_shapes(num_sides, 100, change.new)\n",
    "\n",
    "slider = widgets.FloatSlider(value=0, min=0, max=1, step=0.01, description='Interpolate:')\n",
    "slider.observe(on_slider_change, names='value')\n",
    "\n",
    "display(slider)\n"
   ]
  }
 ],
 "metadata": {},
 "nbformat": 4,
 "nbformat_minor": 5
}
